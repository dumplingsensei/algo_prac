{
 "cells": [
  {
   "cell_type": "markdown",
   "metadata": {},
   "source": [
    "#### Searching Algorithms ####\n",
    "- **Searching** is a essential operation\n",
    "  - Several ways\n",
    "- Algorithms that search for an element within a collection\n",
    "  - **Linear search**\n",
    "  - **Binary search**"
   ]
  },
  {
   "cell_type": "markdown",
   "metadata": {},
   "source": [
    "##### Linear search #####\n",
    "- Looping through each element\n",
    "- Element found\n",
    "  - algorithm stops\n",
    "  - returns the result\n",
    "- Element not found\n",
    "  - algorithm continues\n",
    "##### Linear search - complexity #####\n",
    "- Complexity: *O*(*n*)"
   ]
  },
  {
   "cell_type": "code",
   "execution_count": 1,
   "metadata": {},
   "outputs": [],
   "source": [
    "# Linear search\n",
    "\n",
    "def linear_search(unordered_list, search_value):\n",
    "    for index in range(len(unordered_list)):\n",
    "        if unordered_list[index] == search_value:\n",
    "            return True\n",
    "    return False"
   ]
  },
  {
   "cell_type": "code",
   "execution_count": 2,
   "metadata": {},
   "outputs": [
    {
     "name": "stdout",
     "output_type": "stream",
     "text": [
      "True\n"
     ]
    }
   ],
   "source": [
    "print(linear_search([15, 2, 21, 3, 12, 7, 8], 8))"
   ]
  },
  {
   "cell_type": "code",
   "execution_count": 3,
   "metadata": {},
   "outputs": [
    {
     "name": "stdout",
     "output_type": "stream",
     "text": [
      "False\n"
     ]
    }
   ],
   "source": [
    "print(linear_search([15, 2, 21, 3, 12, 7, 8], 800))"
   ]
  },
  {
   "cell_type": "markdown",
   "metadata": {},
   "source": [
    "##### Binary search #####\n",
    "- Only applies to ordered lists\n",
    "\n",
    "<img src=\"./photos/search_1.png\" alt=\"binary search 1\" width=\"400\" height=\"120\">\n",
    "<!-- ![My Image](./binary_search_1.png =250x250) -->\n",
    "\n",
    "- 15?\n",
    "- Compare `search_value` with the item in the **middle** of the list\n",
    "\n",
    "##### Binary search - Complexity #####\n",
    "- **Complexity**: $O$(log $n$)\n",
    "\n",
    "<img src=\"./photos/search_2.png\" alt=\"binary search 1\" width=\"300\" height=\"200\">\n"
   ]
  },
  {
   "cell_type": "code",
   "execution_count": 4,
   "metadata": {},
   "outputs": [],
   "source": [
    "def binary_search(ordered_list, search_value):\n",
    "    first = 0\n",
    "    last = len(ordered_list) - 1\n",
    "\n",
    "    while first <= last:\n",
    "        middle = (first + last) // 2\n",
    "        if search_value == ordered_list[middle]:\n",
    "            return True\n",
    "        elif search_value < ordered_list[middle]:\n",
    "            last = middle - 1\n",
    "        else:\n",
    "            first = middle + 1\n",
    "    return False\n"
   ]
  },
  {
   "cell_type": "markdown",
   "metadata": {},
   "source": [
    "##### Binary search combines with recursion #####"
   ]
  },
  {
   "cell_type": "code",
   "execution_count": 5,
   "metadata": {},
   "outputs": [
    {
     "name": "stdout",
     "output_type": "stream",
     "text": [
      "True\n"
     ]
    }
   ],
   "source": [
    "def binary_search_recursive(ordered_list, search_value):\n",
    "  # Define the base case\n",
    "  if len(ordered_list) == 0:\n",
    "    return False\n",
    "  else:\n",
    "    middle = len(ordered_list)//2\n",
    "    # Check whether the search value equals the value in the middle\n",
    "    if search_value == ordered_list[middle]:\n",
    "        return True\n",
    "    elif search_value < ordered_list[middle]:\n",
    "        # Call recursively with the left half of the list\n",
    "        return binary_search_recursive(ordered_list[:middle], search_value)\n",
    "    else:\n",
    "        # Call recursively with the right half of the list\n",
    "        return binary_search_recursive(ordered_list[middle+1:], search_value)\n",
    "  \n",
    "print(binary_search_recursive([1,5,8,9,15,20,70,72], 5))"
   ]
  },
  {
   "cell_type": "code",
   "execution_count": null,
   "metadata": {},
   "outputs": [],
   "source": []
  }
 ],
 "metadata": {
  "kernelspec": {
   "display_name": "py38",
   "language": "python",
   "name": "python3"
  },
  "language_info": {
   "codemirror_mode": {
    "name": "ipython",
    "version": 3
   },
   "file_extension": ".py",
   "mimetype": "text/x-python",
   "name": "python",
   "nbconvert_exporter": "python",
   "pygments_lexer": "ipython3",
   "version": "3.8.17"
  }
 },
 "nbformat": 4,
 "nbformat_minor": 2
}
