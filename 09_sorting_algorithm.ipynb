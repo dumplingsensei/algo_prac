{
 "cells": [
  {
   "cell_type": "markdown",
   "metadata": {},
   "source": [
    "#### Sorting algorithms\n",
    "- Deeply studied\n",
    "- Solve how to **sort** and **unsorted collection** in **ascending/descending** order\n",
    "- Can **reduce complexity** of problems\n",
    "- Some sorting algorithms:\n",
    "    - bubble sort\n",
    "    - selection sort\n",
    "    - insertion sort\n",
    "    - merge sort\n",
    "    - quicksort"
   ]
  },
  {
   "cell_type": "markdown",
   "metadata": {},
   "source": [
    "##### Bubble sort\n",
    "- First value greater than the second value\n",
    "    - Swap them\n",
    "- Second value greater than the first value\n",
    "    - Nothing"
   ]
  },
  {
   "cell_type": "code",
   "execution_count": 11,
   "metadata": {},
   "outputs": [],
   "source": [
    "def bubble_sort(my_list):\n",
    "    list_length = len(my_list)\n",
    "    for i in range(list_length-1):\n",
    "        for j in range(list_length-1-i):\n",
    "            if my_list[j] > my_list[j+1]:\n",
    "                my_list[j],  my_list[j+1] = my_list[j+1], my_list[j]\n",
    "                print(my_list)\n",
    "    return my_list"
   ]
  },
  {
   "cell_type": "code",
   "execution_count": 12,
   "metadata": {},
   "outputs": [
    {
     "name": "stdout",
     "output_type": "stream",
     "text": [
      "[3, 4, 7, 1, 5]\n",
      "[3, 4, 1, 7, 5]\n",
      "[3, 4, 1, 5, 7]\n",
      "[3, 1, 4, 5, 7]\n",
      "[1, 3, 4, 5, 7]\n",
      "[1, 3, 4, 5, 7]\n"
     ]
    }
   ],
   "source": [
    "print(bubble_sort([4,3,7,1,5]))"
   ]
  },
  {
   "cell_type": "code",
   "execution_count": 16,
   "metadata": {},
   "outputs": [],
   "source": [
    "# improved one\n",
    "def bubble_sort(my_list):\n",
    "    list_length = len(my_list)\n",
    "    is_sorted = False\n",
    "    while not is_sorted:\n",
    "        is_sorted = True\n",
    "        for i in range(list_length-1):\n",
    "            if my_list[i] > my_list[i+1]:\n",
    "                my_list[i], my_list[i+1] = my_list[i+1], my_list[i]\n",
    "                is_sorted = False\n",
    "                print(my_list)\n",
    "        list_length -= 1\n",
    "    return my_list"
   ]
  },
  {
   "cell_type": "code",
   "execution_count": 18,
   "metadata": {},
   "outputs": [
    {
     "name": "stdout",
     "output_type": "stream",
     "text": [
      "[3, 4, 7, 1, 5]\n",
      "[3, 4, 1, 7, 5]\n",
      "[3, 4, 1, 5, 7]\n",
      "[3, 1, 4, 5, 7]\n",
      "[1, 3, 4, 5, 7]\n",
      "[1, 3, 4, 5, 7]\n"
     ]
    }
   ],
   "source": [
    "print(bubble_sort([4,3,7,1,5]))"
   ]
  },
  {
   "cell_type": "markdown",
   "metadata": {},
   "source": [
    "##### Bubble sort - complexity\n",
    "- Worst case: $O(n^2)$\n",
    "- Best case - not improved version: $\\Omega(n^2)$\n",
    "- Best case - improved version: $\\Omega(n)$\n",
    "- Average case: $\\Theta(n^2)$\n",
    "- Doesn't perform well with highly unsorted large lists\n",
    "- Perform well:\n",
    "    - large sorted/almost sorted lists\n",
    "    - small lists"
   ]
  },
  {
   "cell_type": "code",
   "execution_count": null,
   "metadata": {},
   "outputs": [],
   "source": []
  }
 ],
 "metadata": {
  "kernelspec": {
   "display_name": "py310",
   "language": "python",
   "name": "python3"
  },
  "language_info": {
   "codemirror_mode": {
    "name": "ipython",
    "version": 3
   },
   "file_extension": ".py",
   "mimetype": "text/x-python",
   "name": "python",
   "nbconvert_exporter": "python",
   "pygments_lexer": "ipython3",
   "version": "3.10.12"
  }
 },
 "nbformat": 4,
 "nbformat_minor": 2
}
