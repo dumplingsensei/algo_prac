{
 "cells": [
  {
   "cell_type": "markdown",
   "metadata": {},
   "source": [
    "#### Binary Search Tree (BST)\n",
    "##### Definition \n",
    "- **Left subtree** of a node:\n",
    "  - value **less** than the node itself\n",
    "- **Right subtree** of a node:\n",
    "  - values **greater** than the node itself\n",
    "- Left and right subtrees must be binary search trees\n"
   ]
  },
  {
   "cell_type": "markdown",
   "metadata": {},
   "source": [
    "##### Implementation"
   ]
  },
  {
   "cell_type": "code",
   "execution_count": 25,
   "metadata": {},
   "outputs": [],
   "source": [
    "class TreeNode:\n",
    "    def __init__(self, data, left=None, right=None):\n",
    "        self.data = data\n",
    "        self.left_child = left\n",
    "        self.right_child = right"
   ]
  },
  {
   "cell_type": "code",
   "execution_count": 36,
   "metadata": {},
   "outputs": [],
   "source": [
    "import queue\n",
    "\n",
    "class BinarySearchTree:\n",
    "    def __init__(self):\n",
    "        self.root = None\n",
    "    \n",
    "    def search(self, search_value):\n",
    "        current_node = self.root\n",
    "        while current_node:\n",
    "            if search_value == current_node.data:\n",
    "                return True\n",
    "            elif search_value < current_node.data:\n",
    "                current_node = current_node.left_child\n",
    "            else:\n",
    "                current_node = current_node.right_child\n",
    "        return False\n",
    "    \n",
    "    def insert(self, data):\n",
    "        new_node = TreeNode(data)\n",
    "        if self.root == None:\n",
    "            self.root = new_node\n",
    "            return\n",
    "        else:\n",
    "            current_node = self.root\n",
    "            while True:\n",
    "                if data < current_node.data:\n",
    "                    if current_node.left_child == None:\n",
    "                        current_node.left_child = new_node\n",
    "                        return\n",
    "                    else:\n",
    "                        current_node = current_node.left_child\n",
    "                elif data > current_node.data:\n",
    "                    if current_node.right_child == None:\n",
    "                        current_node.right_child = new_node\n",
    "                        return\n",
    "                    else:\n",
    "                        current_node = current_node.right_child\n",
    "\n",
    "    def find_min(self):\n",
    "        # Set current_node as the root\n",
    "        current_node = self.root\n",
    "        # Iterate over the nodes of the appropriate subtree\n",
    "        while current_node.left_child:\n",
    "            # Update current_node\n",
    "            current_node = current_node.left_child\n",
    "        return current_node.data\n",
    "    \n",
    "    def in_order(self, current_node):\n",
    "        if current_node:\n",
    "            self.in_order(current_node.left_child)\n",
    "            print(current_node.data)\n",
    "            self.in_order(current_node.right_child)\n",
    "        \n",
    "    def pre_order(self, current_node):\n",
    "        if current_node:\n",
    "            print(current_node.data)\n",
    "            self.pre_order(current_node.left_child)\n",
    "            self.pre_order(current_node.right_child)\n",
    "            \n",
    "    def post_order(self, current_node):\n",
    "        if current_node:\n",
    "            self.post_order(current_node.left_child)\n",
    "            self.post_order(current_node.right_child)\n",
    "            print(current_node.data)\n",
    "\n",
    "    def bfs(self):\n",
    "        if self.root:\n",
    "            visited_nodes = []\n",
    "            bfs_queue = queue.SimpleQueue()\n",
    "            bfs_queue.put(self.root)\n",
    "            while not bfs_queue.empty():\n",
    "                current_node = bfs_queue.get()\n",
    "                visited_nodes.append(current_node.data)\n",
    "                if current_node.left:\n",
    "                    bfs_queue.put(current_node.left)\n",
    "                if current_node.right:\n",
    "                    bfs_queue.put(current_node.right)\n",
    "        return visited_nodes"
   ]
  },
  {
   "cell_type": "markdown",
   "metadata": {},
   "source": [
    "##### Deleting \n",
    "- No children\n",
    "  - delete it\n",
    "- One child\n",
    "  - delete it\n",
    "  - connect the child with node's parent\n",
    "- Two children\n",
    "  - replace it with its successor\n",
    "    - the node with smallest/least value greater than the value of the node\n",
    "- find the successor:\n",
    "  - visit the right child\n",
    "  - keep visiting the left nodes until the end\n",
    "  - if the successor has a right child:\n",
    "    - child becomes the left child of successor's parent\n",
    "\n",
    "##### Uses\n",
    "- Order lists efficiently\n",
    "- Much faster at searching than arrays and linked lists\n",
    "- Much faster at inseting and deleting than arrays\n",
    "- Used to implement more advanced data structures:\n",
    "    - dynamic sets\n",
    "    - lookup tables\n",
    "    - priority queues\n"
   ]
  },
  {
   "cell_type": "markdown",
   "metadata": {},
   "source": [
    "#### Depth First Search (DFS) \n",
    "##### Tree/graph traversal \n",
    "- Process of visiting **all nodes**\n",
    "- Depth first search (DFS)\n",
    "- Breadth first search (BFS)"
   ]
  },
  {
   "cell_type": "markdown",
   "metadata": {},
   "source": [
    "##### Depth first search - binary trees \n",
    "##### Three ways of implementing the depth first search traversal into binary trees: in-order, pre-order, and post-order\n",
    "- In-order\n",
    "- Pre-order\n",
    "- Post-order"
   ]
  },
  {
   "cell_type": "markdown",
   "metadata": {},
   "source": [
    "##### In-order traversal \n",
    "- **Order:** Left -> Current -> Right (If applied to a binary search tree, output is in **ascending** order)"
   ]
  },
  {
   "cell_type": "markdown",
   "metadata": {},
   "source": [
    "##### Pre-order traversal \n",
    "- **Order:** Current/Root -> Left -> Right\n",
    "\n"
   ]
  },
  {
   "cell_type": "markdown",
   "metadata": {},
   "source": [
    "##### Post-order\n",
    "- **Order:** Left -> Right -> Current\n",
    "- Complexity: $O(n)$\n",
    "    - $n$ -> number of nodes"
   ]
  },
  {
   "cell_type": "markdown",
   "metadata": {},
   "source": [
    "##### When to use in-order, pre-order, and post-order \n",
    "- **in-order**\n",
    "    - used BST to obtain the node's values in ascending order\n",
    "- **pre-order**\n",
    "    - create copires of a tree\n",
    "    - get prefix expressions\n",
    "- **post-order**\n",
    "    - delete binary trees\n",
    "    - get postfix expressions"
   ]
  },
  {
   "cell_type": "code",
   "execution_count": 37,
   "metadata": {},
   "outputs": [],
   "source": [
    "def CreateTree():\n",
    "    node1 = TreeNode(10)\n",
    "    node2 = TreeNode(22)\n",
    "    node3 = TreeNode(68)\n",
    "    node4 = TreeNode(75)\n",
    "    node5 = TreeNode(20, node1, node2)\n",
    "    node6 = TreeNode(70, node3, node4)\n",
    "    root_node = TreeNode(65,node5, node6)\n",
    "    bst = BinarySearchTree()\n",
    "    bst.root = root_node\n",
    "    return bst"
   ]
  },
  {
   "cell_type": "code",
   "execution_count": 38,
   "metadata": {},
   "outputs": [],
   "source": [
    "my_tree = CreateTree()"
   ]
  },
  {
   "cell_type": "code",
   "execution_count": 39,
   "metadata": {},
   "outputs": [
    {
     "name": "stdout",
     "output_type": "stream",
     "text": [
      "10\n",
      "20\n",
      "22\n",
      "65\n",
      "68\n",
      "70\n",
      "75\n"
     ]
    }
   ],
   "source": [
    "my_tree.in_order(my_tree.root)"
   ]
  },
  {
   "cell_type": "code",
   "execution_count": 40,
   "metadata": {},
   "outputs": [
    {
     "name": "stdout",
     "output_type": "stream",
     "text": [
      "65\n",
      "20\n",
      "10\n",
      "22\n",
      "70\n",
      "68\n",
      "75\n"
     ]
    }
   ],
   "source": [
    "my_tree.pre_order(my_tree.root)"
   ]
  },
  {
   "cell_type": "code",
   "execution_count": 41,
   "metadata": {},
   "outputs": [
    {
     "name": "stdout",
     "output_type": "stream",
     "text": [
      "10\n",
      "22\n",
      "20\n",
      "68\n",
      "75\n",
      "70\n",
      "65\n"
     ]
    }
   ],
   "source": [
    "my_tree.post_order(my_tree.root)"
   ]
  },
  {
   "cell_type": "markdown",
   "metadata": {},
   "source": [
    "##### Depth first search - graphs \n",
    "- Graphs can have cycles\n",
    "    - need to keep track of visited vertices\n",
    "- Steps:\n",
    "1. Start at any vertex\n",
    "2. Tracks current vertex to visited vertices list\n",
    "3. For each current node's adjacent vertex\n",
    "    - If it has been visited -> ignore it\n",
    "    - If it hasn't visited -> recursively perform DFS"
   ]
  },
  {
   "cell_type": "markdown",
   "metadata": {},
   "source": [
    "##### Depth first search - implementation \n",
    "- Complexity: $O(V+E)$\n",
    "    - $V$ -> number of vertices\n",
    "    - $E$ -> number of edges"
   ]
  },
  {
   "cell_type": "code",
   "execution_count": 44,
   "metadata": {},
   "outputs": [],
   "source": [
    "def dfs(visited_vertices, graph, current_vertex):\n",
    "    if current_vertex not in visited_vertices:\n",
    "        print(current_vertex)\n",
    "        visited_vertices.add(current_vertex)\n",
    "        for adjacent_vertix in graph[current_vertex]:\n",
    "            dfs(visited_vertices, graph, adjacent_vertix)"
   ]
  },
  {
   "cell_type": "code",
   "execution_count": 42,
   "metadata": {},
   "outputs": [],
   "source": [
    "graph = {\n",
    "  '0' : ['1','2'],\n",
    "  '1' : ['0', '2', '3'],\n",
    "  '2' : ['0', '1', '4'],\n",
    "  '3' : ['1', '4'],\n",
    "  '4' : ['2', '3']\n",
    "}"
   ]
  },
  {
   "cell_type": "markdown",
   "metadata": {},
   "source": [
    "<img src=\"./photos/graph_exercises.png\" alt=\"exercise graph\" width=\"400\" height=\"180\">"
   ]
  },
  {
   "cell_type": "code",
   "execution_count": 45,
   "metadata": {},
   "outputs": [
    {
     "name": "stdout",
     "output_type": "stream",
     "text": [
      "0\n",
      "1\n",
      "2\n",
      "4\n",
      "3\n"
     ]
    }
   ],
   "source": [
    "dfs(set(), graph, '0')"
   ]
  },
  {
   "cell_type": "markdown",
   "metadata": {},
   "source": [
    "##### Expression trees are a kind of binary tree that represent arithmetic expressions: \n",
    "<img src=\"./photos/infix_notation.png\" alt=\"infix notation\" width=\"400\" height=\"400\">"
   ]
  },
  {
   "cell_type": "markdown",
   "metadata": {},
   "source": [
    "- By applying **in-order** traversal to an expression tree, you can obtain the **infix notation**. This notation for the given tree will be (10-5)*3.\n",
    "\n",
    "- By applying **pre-order** traversal to an expression tree, you can obtain the **prefix notation**, aka *Polish notation*, where the operator appears before its operands. This notation for the given tree will be *-10 5 3.\n",
    "\n",
    "- By applying **post-order** traversal to an expression tree, you can obtain the **postfix notation**, aka *reverse Polish notation*, where the operator appears after its operands. This notation for the given tree will be 10 5- 3*.\n",
    "\n",
    "Code the pre-order traversal so that you can obtain the prefix notation of this expression tree."
   ]
  },
  {
   "cell_type": "markdown",
   "metadata": {},
   "source": [
    "#### Breadth first search - binary trees \n",
    "- Starts from the root\n",
    "- Visits every node of every level\n",
    "- Complexity: $O(n)$"
   ]
  },
  {
   "cell_type": "code",
   "execution_count": null,
   "metadata": {},
   "outputs": [],
   "source": [
    "# import queue\n",
    "\n",
    "# def bfs(self):\n",
    "#     if self.root:\n",
    "#         visited_nodes = []\n",
    "#         bfs_queue = queue.SimpleQueue()\n",
    "#         bfs_queue.put(self.root)\n",
    "#         while not bfs_queue.empty():\n",
    "#             current_node = bfs_queue.get()\n",
    "#             visited_nodes.append(current_node.data)\n",
    "#             if current_node.left:\n",
    "#                 bfs_queue.put(current_node.left)\n",
    "#             if current_node.right:\n",
    "#                 bfs_queue.put(current_node.right)\n",
    "#     return visited_nodes\n"
   ]
  },
  {
   "cell_type": "markdown",
   "metadata": {},
   "source": [
    "##### Breadth first search - graphs \n",
    "- Graphs can have cycles\n",
    "    - Need to check if the vertices have already been visited\n",
    "- Complexity: $O(V+E)$\n",
    "    - $V$ -> number of vertices\n",
    "    - $E$ -> number of edges"
   ]
  },
  {
   "cell_type": "code",
   "execution_count": 1,
   "metadata": {},
   "outputs": [],
   "source": [
    "def bfs(graph, initial_vertex):\n",
    "    visited_vertices = []\n",
    "    bfs_queue = queue.SimpleQueue()\n",
    "    bfs_queue.put(initial_vertex)\n",
    "    visited_vertices.append(initial_vertex)\n",
    "    while not bfs_queue.empty():\n",
    "        current_vertex =bfs_queue.get()\n",
    "        for adjacent_vertex in graph[current_vertex]:\n",
    "            if adjacent_vertex not in visited_vertices:\n",
    "                visited_vertices.append(adjacent_vertex)\n",
    "                bfs_queue.put(adjacent_vertex)\n",
    "    return visited_vertices\n"
   ]
  },
  {
   "cell_type": "markdown",
   "metadata": {},
   "source": [
    "#### BFS vs DFS\n",
    "\n",
    "##### BFS\n",
    "\n",
    "- Target close to the starting vertex\n",
    "- Applications:\n",
    "  - Web crawling\n",
    "  - Finding shortest path in unweighted graphs\n",
    "  - Finding connected locations using GPS\n",
    "  - Used as part of other more complex algorithms\n",
    "\n",
    "##### DFS\n",
    "\n",
    "- Target far away from the starting vertex\n",
    "- Applications:\n",
    "  - Solving puzzles with only one solution (e.g. mazes)\n",
    "  - Detecting cycles in graphs\n",
    "  - Finding shortest path in a weighted graph\n",
    "  - Used as part of other more complex algorithms"
   ]
  },
  {
   "cell_type": "markdown",
   "metadata": {},
   "source": [
    "##### Modify the BFS algorithm to search for a given vertex within a graph."
   ]
  },
  {
   "cell_type": "markdown",
   "metadata": {},
   "source": [
    "<img src=\"./photos/finding_graph_vertex_bfs.png\" alt=\"bfs\" width=\"400\" height=\"180\">"
   ]
  },
  {
   "cell_type": "code",
   "execution_count": 5,
   "metadata": {},
   "outputs": [],
   "source": [
    "graph = {\n",
    "  '4' : ['6','7'],\n",
    "  '6' : ['4', '7', '8'],\n",
    "  '7' : ['4', '6', '9'],\n",
    "  '8' : ['6', '9'],\n",
    "  '9' : ['7', '8']\n",
    "}"
   ]
  },
  {
   "cell_type": "code",
   "execution_count": 6,
   "metadata": {},
   "outputs": [
    {
     "name": "stdout",
     "output_type": "stream",
     "text": [
      "Start BFS from vertex: 4\n",
      "Processing vertex: 4\n",
      "Discovered new vertex: 6\n",
      "Add 6 in visited list and queue\n",
      "Discovered new vertex: 7\n",
      "Add 7 in visited list and queue\n",
      "Processing vertex: 6\n",
      "Discovered new vertex: 8\n",
      "Add 8 in visited list and queue\n",
      "Processing vertex: 7\n",
      "Discovered new vertex: 9\n",
      "Add 9 in visited list and queue\n",
      "Processing vertex: 8\n",
      "Found the value: 8\n",
      "True\n"
     ]
    }
   ],
   "source": [
    "import queue\n",
    "\n",
    "def bfs(graph, initial_vertex, search_value):\n",
    "    visited_vertices = []\n",
    "    bfs_queue = queue.SimpleQueue()\n",
    "    visited_vertices.append(initial_vertex)\n",
    "    bfs_queue.put(initial_vertex)\n",
    "    print(f\"Start BFS from vertex: {initial_vertex}\")\n",
    "\n",
    "    while not bfs_queue.empty():\n",
    "        current_vertex = bfs_queue.get()\n",
    "        print(f\"Processing vertex: {current_vertex}\")\n",
    "\n",
    "        # Check if you found the search value\n",
    "        if current_vertex == search_value:\n",
    "            print(f\"Found the value: {current_vertex}\")\n",
    "            # Return True if you find the search value\n",
    "            return True\n",
    "        \n",
    "        for adjacent_vertex in graph[current_vertex]:\n",
    "        # Check if the adjacent vertex has been visited\n",
    "            if adjacent_vertex not in visited_vertices:\n",
    "                print(f\"Discovered new vertex: {adjacent_vertex}\")\n",
    "                visited_vertices.append(adjacent_vertex)\n",
    "                bfs_queue.put(adjacent_vertex)\n",
    "                print(f\"Add {adjacent_vertex} in visited list and queue\")\n",
    "\n",
    "    # Return False if you didn't find the search value\n",
    "    print(\"search value not found\")\n",
    "    return False\n",
    "\n",
    "print(bfs(graph, '4', '8'))"
   ]
  },
  {
   "cell_type": "markdown",
   "metadata": {},
   "source": []
  }
 ],
 "metadata": {
  "kernelspec": {
   "display_name": "py310",
   "language": "python",
   "name": "python3"
  },
  "language_info": {
   "codemirror_mode": {
    "name": "ipython",
    "version": 3
   },
   "file_extension": ".py",
   "mimetype": "text/x-python",
   "name": "python",
   "nbconvert_exporter": "python",
   "pygments_lexer": "ipython3",
   "version": "3.10.12"
  }
 },
 "nbformat": 4,
 "nbformat_minor": 2
}
