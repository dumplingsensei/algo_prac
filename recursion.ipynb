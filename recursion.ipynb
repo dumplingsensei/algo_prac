{
 "cells": [
  {
   "cell_type": "markdown",
   "metadata": {},
   "source": [
    "##### **Understanding recursion** #####"
   ]
  },
  {
   "cell_type": "markdown",
   "metadata": {},
   "source": [
    "##### Definition #####\n",
    "- Function calling itself\n",
    "- Almost all the situation where we use loops\n",
    "  - substitute the loops using recursion\n",
    "- Can solve problems that seem very complex at first"
   ]
  },
  {
   "cell_type": "markdown",
   "metadata": {},
   "source": [
    "##### Example - factorial #####"
   ]
  },
  {
   "cell_type": "code",
   "execution_count": 1,
   "metadata": {},
   "outputs": [],
   "source": [
    "def factorial(n):\n",
    "    result = 1\n",
    "    while n > 1:\n",
    "        result = n * result\n",
    "        n -= 1\n",
    "    return result"
   ]
  },
  {
   "cell_type": "code",
   "execution_count": 2,
   "metadata": {},
   "outputs": [
    {
     "data": {
      "text/plain": [
       "120"
      ]
     },
     "execution_count": 2,
     "metadata": {},
     "output_type": "execute_result"
    }
   ],
   "source": [
    "factorial(5)"
   ]
  },
  {
   "cell_type": "markdown",
   "metadata": {},
   "source": [
    "##### Example - identifying the base case #####\n",
    "- Add a condition\n",
    "  - ensures that our algorithm does't execute forever\n",
    "- **Factorial base case** -> n = 1"
   ]
  },
  {
   "cell_type": "code",
   "execution_count": 4,
   "metadata": {},
   "outputs": [],
   "source": [
    "# Avoid infinite recursion, the first thing is to identify the base case\n",
    "def factorial_recursion(n):\n",
    "    if n == 1:\n",
    "        return 1\n",
    "    else:\n",
    "        return n * factorial_recursion(n-1) # recursive call"
   ]
  },
  {
   "cell_type": "code",
   "execution_count": 5,
   "metadata": {},
   "outputs": [
    {
     "name": "stdout",
     "output_type": "stream",
     "text": [
      "120\n"
     ]
    }
   ],
   "source": [
    "print(factorial_recursion(5))"
   ]
  },
  {
   "cell_type": "code",
   "execution_count": 7,
   "metadata": {},
   "outputs": [
    {
     "name": "stdout",
     "output_type": "stream",
     "text": [
      "105 ns ± 0.204 ns per loop (mean ± std. dev. of 7 runs, 10,000,000 loops each)\n"
     ]
    }
   ],
   "source": [
    "%timeit factorial(5)"
   ]
  },
  {
   "cell_type": "code",
   "execution_count": 8,
   "metadata": {},
   "outputs": [
    {
     "name": "stdout",
     "output_type": "stream",
     "text": [
      "166 ns ± 0.518 ns per loop (mean ± std. dev. of 7 runs, 10,000,000 loops each)\n"
     ]
    }
   ],
   "source": [
    "%timeit factorial_recursion(5)"
   ]
  },
  {
   "cell_type": "markdown",
   "metadata": {},
   "source": [
    "##### How recursion works #####\n",
    "- Computer uses a **stack** to keep track of the funtions\n",
    "  - **Call stack**\n",
    "- `factorial(5)` starts\n",
    "\n",
    "- Before `factorial(5)` finishes ->\\\n",
    "  `factorial(4)` starts, \\\n",
    "  the computer needs to know that `factorial(5)` didn't finish, so it pushes the information into the call stack.\n",
    "\n",
    "- Before `factorial(4)` finishes ->\\\n",
    "  `factorial(3)` starts\n",
    "\n",
    "- Before `factorial(3)` finishes ->\\\n",
    "  `factorial(2)` starts\n",
    "\n",
    "- Before `factorial(2)` finishes ->\\\n",
    "  `factorial(1)` starts\n",
    "\n",
    "- `factorial(1)` finishes\n",
    "  - returns 1\n",
    "\n",
    "- `factorial(2)` finishes\n",
    "  - returns 2\n",
    "\n",
    "- `factorial(3)` finishes\n",
    "  - returns 6\n",
    "\n",
    "- `factorial(4)` finishes\n",
    "  - returns 24\n",
    "\n",
    "- `factorial(5)` finishes\n",
    "  - returns 120\n",
    "  \n"
   ]
  },
  {
   "cell_type": "markdown",
   "metadata": {},
   "source": [
    "##### Dynamic programming #####\n",
    "- Optimization technique\n",
    "- Mainly applied to recursion\n",
    "- Can reduce the complexity of recursive algorithms\n",
    "- Used for:\n",
    "  - Any problem that can be divided into smaller subproblems\n",
    "  - Subproblems overlap\n",
    "- Solutions of subproblems are saved, avoiding the need to recalculate\n",
    "  - Memorization"
   ]
  },
  {
   "cell_type": "code",
   "execution_count": 9,
   "metadata": {},
   "outputs": [
    {
     "name": "stdout",
     "output_type": "stream",
     "text": [
      "8\n"
     ]
    }
   ],
   "source": [
    "def fibonacci(n):\n",
    "  # Define the base case\n",
    "  if n <= 1:\n",
    "    return n\n",
    "  else:\n",
    "    # Call recursively to fibonacci\n",
    "    return fibonacci(n-1) + fibonacci(n-2)\n",
    "    \n",
    "print(fibonacci(6))"
   ]
  },
  {
   "cell_type": "code",
   "execution_count": 10,
   "metadata": {},
   "outputs": [
    {
     "name": "stdout",
     "output_type": "stream",
     "text": [
      "8\n"
     ]
    }
   ],
   "source": [
    "# saving the solutions of the subproblems in the cache variable to avoid recalculating.\n",
    "\n",
    "cache = [None]*(100)\n",
    "\n",
    "def fibonacci(n): \n",
    "    if n <= 1:\n",
    "        return n\n",
    "    \n",
    "    # Check if the value exists\n",
    "    if not cache[n]:\n",
    "        # Save the result in cache\n",
    "        cache[n] = fibonacci(n-1) + fibonacci(n-2)\n",
    "    \n",
    "    return cache[n]\n",
    "    \n",
    "\n",
    "print(fibonacci(6))"
   ]
  },
  {
   "cell_type": "code",
   "execution_count": 11,
   "metadata": {},
   "outputs": [
    {
     "name": "stdout",
     "output_type": "stream",
     "text": [
      "[None, None, 1, 2, 3, 5, 8, None, None, None]\n"
     ]
    }
   ],
   "source": [
    "print(cache[:10])"
   ]
  },
  {
   "cell_type": "markdown",
   "metadata": {},
   "source": [
    "##### Towers of Hanoi #####\n",
    "\n",
    "In this exercise, you will implement the **Towers of Hanoi** puzzle with a **recursive algorithm**. The aim of this game is to transfer all the disks from one of the three rods to another, following these rules:\n",
    "\n",
    "- You can only move one disk at a time.\n",
    "- You can only take the upper disk from one of the stacks and place it on top of another stack.\n",
    "- You cannot put a larger disk on top of a smaller one.\n",
    "\n",
    "The algorithm shown is an implementation of this game with four disks and three rods called 'A', 'B' and 'C'. The code contains **two mistakes**. In fact, if you execute it, it crashes the console because it exceeds the maximum recursion depth. Can you find the bugs and fix them?\n",
    "\n",
    "- Correct the base case.\n",
    "- Correct the calls to the hanoi() function."
   ]
  },
  {
   "cell_type": "code",
   "execution_count": null,
   "metadata": {},
   "outputs": [],
   "source": [
    "# question\n",
    "\n",
    "def hanoi(num_disks, from_rod, to_rod, aux_rod):\n",
    "  # Correct the base case\n",
    "  if num_disks >= 0:\n",
    "    # Correct the calls to the hanoi function\n",
    "    hanoi(num_disks, from_rod, aux_rod, to_rod)\n",
    "    print(\"Moving disk\", num_disks, \"from rod\", from_rod,\"to rod\",to_rod)\n",
    "    hanoi(num_disks, aux_rod, to_rod, from_rod)   \n",
    "\n",
    "num_disks = 4\n",
    "source_rod = 'A'\n",
    "auxiliar_rod = 'B'\n",
    "target_rod = 'C'\n",
    "\n",
    "hanoi(num_disks, source_rod, target_rod, auxiliar_rod)"
   ]
  },
  {
   "cell_type": "markdown",
   "metadata": {},
   "source": [
    "##### Solution from DataCamp #####"
   ]
  },
  {
   "cell_type": "code",
   "execution_count": 1,
   "metadata": {},
   "outputs": [
    {
     "name": "stdout",
     "output_type": "stream",
     "text": [
      "Moving disk 1 from rod A to rod B\n",
      "Moving disk 2 from rod A to rod C\n",
      "Moving disk 1 from rod B to rod C\n",
      "Moving disk 3 from rod A to rod B\n",
      "Moving disk 1 from rod C to rod A\n",
      "Moving disk 2 from rod C to rod B\n",
      "Moving disk 1 from rod A to rod B\n",
      "Moving disk 4 from rod A to rod C\n",
      "Moving disk 1 from rod B to rod C\n",
      "Moving disk 2 from rod B to rod A\n",
      "Moving disk 1 from rod C to rod A\n",
      "Moving disk 3 from rod B to rod C\n",
      "Moving disk 1 from rod A to rod B\n",
      "Moving disk 2 from rod A to rod C\n",
      "Moving disk 1 from rod B to rod C\n"
     ]
    }
   ],
   "source": [
    "def hanoi(num_disks, from_rod, to_rod, aux_rod):\n",
    "  # Correct the base case\n",
    "  if num_disks >= 1:\n",
    "    # Correct the calls to the hanoi function\n",
    "    hanoi(num_disks - 1, from_rod, aux_rod, to_rod)\n",
    "    print(\"Moving disk\", num_disks, \"from rod\", from_rod,\"to rod\",to_rod)\n",
    "    hanoi(num_disks - 1, aux_rod, to_rod, from_rod)   \n",
    "\n",
    "num_disks = 4\n",
    "source_rod = 'A'\n",
    "auxiliar_rod = 'B'\n",
    "target_rod = 'C'\n",
    "\n",
    "hanoi(num_disks, source_rod, target_rod, auxiliar_rod)"
   ]
  },
  {
   "cell_type": "markdown",
   "metadata": {},
   "source": [
    "##### Solution from Claude #####"
   ]
  },
  {
   "cell_type": "code",
   "execution_count": 2,
   "metadata": {},
   "outputs": [
    {
     "name": "stdout",
     "output_type": "stream",
     "text": [
      "Moving disk 1 from rod A to rod B\n",
      "Moving disk 2 from rod A to rod C\n",
      "Moving disk 1 from rod B to rod C\n",
      "Moving disk 3 from rod A to rod B\n",
      "Moving disk 1 from rod C to rod A\n",
      "Moving disk 2 from rod C to rod B\n",
      "Moving disk 1 from rod A to rod B\n",
      "Moving disk 4 from rod A to rod C\n",
      "Moving disk 1 from rod B to rod C\n",
      "Moving disk 2 from rod B to rod A\n",
      "Moving disk 1 from rod C to rod A\n",
      "Moving disk 3 from rod B to rod C\n",
      "Moving disk 1 from rod A to rod B\n",
      "Moving disk 2 from rod A to rod C\n",
      "Moving disk 1 from rod B to rod C\n"
     ]
    }
   ],
   "source": [
    "def hanoi(num_disks, from_rod, to_rod, aux_rod):\n",
    "    if num_disks == 1:\n",
    "        print(\"Moving disk 1 from rod\", from_rod, \"to rod\", to_rod)\n",
    "        return\n",
    "    \n",
    "    hanoi(num_disks - 1, from_rod, aux_rod, to_rod)\n",
    "    print(\"Moving disk\", num_disks, \"from rod\", from_rod, \"to rod\", to_rod)\n",
    "    hanoi(num_disks - 1, aux_rod, to_rod, from_rod)\n",
    "\n",
    "num_disks = 4\n",
    "source_rod = 'A'\n",
    "auxiliar_rod = 'B'\n",
    "target_rod = 'C'\n",
    "\n",
    "hanoi(num_disks, source_rod, target_rod, auxiliar_rod)"
   ]
  },
  {
   "cell_type": "code",
   "execution_count": null,
   "metadata": {},
   "outputs": [],
   "source": []
  }
 ],
 "metadata": {
  "kernelspec": {
   "display_name": "py310",
   "language": "python",
   "name": "python3"
  },
  "language_info": {
   "codemirror_mode": {
    "name": "ipython",
    "version": 3
   },
   "file_extension": ".py",
   "mimetype": "text/x-python",
   "name": "python",
   "nbconvert_exporter": "python",
   "pygments_lexer": "ipython3",
   "version": "3.8.17"
  }
 },
 "nbformat": 4,
 "nbformat_minor": 2
}
