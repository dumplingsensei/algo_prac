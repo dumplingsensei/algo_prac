{
 "cells": [
  {
   "cell_type": "markdown",
   "metadata": {},
   "source": [
    "### **Hash tables** ###\n",
    "\n",
    "#### **Definition** ####\n",
    "- Stores a collection of items\n",
    "- **Key-value pairs**\n",
    "- Almost every programming language has a built-in hash table:\n",
    "  - hashes, hash maps, dictionariesm associative arrays\n",
    "  - Python: **dictionaries**"
   ]
  },
  {
   "cell_type": "markdown",
   "metadata": {},
   "source": [
    "#### **Structure** ####\n",
    "- Each position: **slot/bucket**\n",
    "- Every time a hash function is applied\n",
    "  - must return the **same value** for the **same input**\n",
    "- Find \"lasagna\"\n",
    "  - hash(\"lasagna\") -> 5\n",
    "  - return 14.75"
   ]
  },
  {
   "cell_type": "markdown",
   "metadata": {},
   "source": [
    "#### **Collisions** ####\n",
    "- Hash functions can return **same output** for **different inputs**\n",
    "- hash(\"moussaka\") -> 1 (1 filled)\n",
    "- insert: moussaka -> 21.15\n",
    "- **Collision!**\n",
    "  - must be resolved\n",
    "  - several techniques"
   ]
  },
  {
   "cell_type": "code",
   "execution_count": 1,
   "metadata": {},
   "outputs": [],
   "source": [
    "my_empty_dictionary = {}\n",
    "\n",
    "my_menu = {\n",
    "    'lasagna': 14.75,\n",
    "    'moussaka': 21.15,\n",
    "    'sushi': 16.05\n",
    "}"
   ]
  },
  {
   "cell_type": "code",
   "execution_count": 2,
   "metadata": {},
   "outputs": [
    {
     "name": "stdout",
     "output_type": "stream",
     "text": [
      "16.05\n"
     ]
    }
   ],
   "source": [
    "print(my_menu['sushi'])"
   ]
  },
  {
   "cell_type": "code",
   "execution_count": 3,
   "metadata": {},
   "outputs": [
    {
     "ename": "KeyError",
     "evalue": "'paella'",
     "output_type": "error",
     "traceback": [
      "\u001b[0;31m---------------------------------------------------------------------------\u001b[0m",
      "\u001b[0;31mKeyError\u001b[0m                                  Traceback (most recent call last)",
      "Cell \u001b[0;32mIn[3], line 1\u001b[0m\n\u001b[0;32m----> 1\u001b[0m \u001b[38;5;28mprint\u001b[39m(\u001b[43mmy_menu\u001b[49m\u001b[43m[\u001b[49m\u001b[38;5;124;43m'\u001b[39;49m\u001b[38;5;124;43mpaella\u001b[39;49m\u001b[38;5;124;43m'\u001b[39;49m\u001b[43m]\u001b[49m)\n",
      "\u001b[0;31mKeyError\u001b[0m: 'paella'"
     ]
    }
   ],
   "source": [
    "print(my_menu['paella'])"
   ]
  },
  {
   "cell_type": "code",
   "execution_count": 4,
   "metadata": {},
   "outputs": [
    {
     "name": "stdout",
     "output_type": "stream",
     "text": [
      "None\n"
     ]
    }
   ],
   "source": [
    "print(my_menu.get(\"paella\"))"
   ]
  },
  {
   "cell_type": "code",
   "execution_count": 5,
   "metadata": {},
   "outputs": [
    {
     "name": "stdout",
     "output_type": "stream",
     "text": [
      "dict_items([('lasagna', 14.75), ('moussaka', 21.15), ('sushi', 16.05)])\n"
     ]
    }
   ],
   "source": [
    "print(my_menu.items())"
   ]
  },
  {
   "cell_type": "code",
   "execution_count": 6,
   "metadata": {},
   "outputs": [
    {
     "name": "stdout",
     "output_type": "stream",
     "text": [
      "dict_keys(['lasagna', 'moussaka', 'sushi'])\n"
     ]
    }
   ],
   "source": [
    "print(my_menu.keys())"
   ]
  },
  {
   "cell_type": "code",
   "execution_count": 7,
   "metadata": {},
   "outputs": [
    {
     "name": "stdout",
     "output_type": "stream",
     "text": [
      "dict_values([14.75, 21.15, 16.05])\n"
     ]
    }
   ],
   "source": [
    "print(my_menu.values())"
   ]
  },
  {
   "cell_type": "markdown",
   "metadata": {},
   "source": [
    "#### Python dictionary - insert ####"
   ]
  },
  {
   "cell_type": "code",
   "execution_count": 8,
   "metadata": {},
   "outputs": [
    {
     "name": "stdout",
     "output_type": "stream",
     "text": [
      "dict_items([('lasagna', 14.75), ('moussaka', 21.15), ('sushi', 16.05), ('samosas', 13)])\n"
     ]
    }
   ],
   "source": [
    "my_menu['samosas'] = 13\n",
    "print(my_menu.items())"
   ]
  },
  {
   "cell_type": "markdown",
   "metadata": {},
   "source": [
    "#### Python dictionary - modify ####"
   ]
  },
  {
   "cell_type": "code",
   "execution_count": 9,
   "metadata": {},
   "outputs": [
    {
     "name": "stdout",
     "output_type": "stream",
     "text": [
      "16.05\n"
     ]
    }
   ],
   "source": [
    "print(my_menu.get('sushi'))"
   ]
  },
  {
   "cell_type": "code",
   "execution_count": 11,
   "metadata": {},
   "outputs": [
    {
     "name": "stdout",
     "output_type": "stream",
     "text": [
      "20\n"
     ]
    }
   ],
   "source": [
    "my_menu['sushi'] = 20\n",
    "print(my_menu.get('sushi'))"
   ]
  },
  {
   "cell_type": "markdown",
   "metadata": {},
   "source": [
    "#### Python dictionary - remove ####\n",
    "- Deletes a dictionaru completely\n",
    "```python\n",
    "> del my_menu\n",
    "```\n",
    "\n",
    "- Removes a key-value pair\n",
    "```python\n",
    "> del my_menu[\"sushi\"]\n",
    "```\n",
    "\n",
    "- Empties a dictionary\n",
    "```python\n",
    "> my_menu.clear()\n",
    "```\n"
   ]
  },
  {
   "cell_type": "markdown",
   "metadata": {},
   "source": [
    "#### Python dictionary - iterate ####"
   ]
  },
  {
   "cell_type": "code",
   "execution_count": 12,
   "metadata": {},
   "outputs": [
    {
     "name": "stdout",
     "output_type": "stream",
     "text": [
      "\n",
      "key: lasagna\n",
      "value: 14.75\n",
      "\n",
      "key: moussaka\n",
      "value: 21.15\n",
      "\n",
      "key: sushi\n",
      "value: 20\n",
      "\n",
      "key: samosas\n",
      "value: 13\n"
     ]
    }
   ],
   "source": [
    "for key, value in my_menu.items():\n",
    "    print(f\"\\nkey: {key}\")\n",
    "    print(f\"value: {value}\")"
   ]
  },
  {
   "cell_type": "code",
   "execution_count": 13,
   "metadata": {},
   "outputs": [
    {
     "name": "stdout",
     "output_type": "stream",
     "text": [
      "14.75\n",
      "21.15\n",
      "20\n",
      "13\n"
     ]
    }
   ],
   "source": [
    "for prices in my_menu.values():\n",
    "    print(prices)"
   ]
  },
  {
   "cell_type": "markdown",
   "metadata": {},
   "source": [
    "#### Python dictionary - nested dictionaries ####\n",
    "- Nested dictionary"
   ]
  },
  {
   "cell_type": "code",
   "execution_count": 14,
   "metadata": {},
   "outputs": [],
   "source": [
    "my_menu = {\n",
    "    'sushi' : {\n",
    "        'price' : 18.25,\n",
    "        'best_served' : 'cold'\n",
    "    },\n",
    "    'paella' : {\n",
    "        'price' : 15,\n",
    "        'best_served' : 'hot'\n",
    "    }\n",
    "}"
   ]
  },
  {
   "cell_type": "markdown",
   "metadata": {},
   "source": [
    "#### Exercise ####"
   ]
  },
  {
   "cell_type": "code",
   "execution_count": 15,
   "metadata": {},
   "outputs": [],
   "source": [
    "my_menu = {\n",
    "  'sushi' : {\n",
    "    'price' : 19.25,\n",
    "    'best_served' : 'cold'\n",
    "  },\n",
    "  'paella' : {\n",
    "    'price' : 15,\n",
    "    'best_served' : 'hot'\n",
    "  },\n",
    "  'samosa' : {\n",
    "    'price' : 14,\n",
    "    'best_served' : 'hot'\n",
    "  },\n",
    "  'gazpacho' : {\n",
    "    'price' : 8,\n",
    "    'best_served' : 'cold'\n",
    "  }\n",
    "}"
   ]
  },
  {
   "cell_type": "code",
   "execution_count": 16,
   "metadata": {},
   "outputs": [
    {
     "name": "stdout",
     "output_type": "stream",
     "text": [
      "Sushi is best served cold.\n",
      "Paella is best served hot.\n",
      "Samosa is best served hot.\n",
      "Gazpacho is best served cold.\n"
     ]
    }
   ],
   "source": [
    "# Iterate the elements of the menu\n",
    "for dish, values in my_menu.items():\n",
    "  # Print whether the dish must be served cold or hot\n",
    "  print(f\"{dish.title()} is best served {values['best_served']}.\")"
   ]
  },
  {
   "cell_type": "code",
   "execution_count": null,
   "metadata": {},
   "outputs": [],
   "source": []
  }
 ],
 "metadata": {
  "kernelspec": {
   "display_name": "py310",
   "language": "python",
   "name": "python3"
  },
  "language_info": {
   "codemirror_mode": {
    "name": "ipython",
    "version": 3
   },
   "file_extension": ".py",
   "mimetype": "text/x-python",
   "name": "python",
   "nbconvert_exporter": "python",
   "pygments_lexer": "ipython3",
   "version": "3.10.12"
  }
 },
 "nbformat": 4,
 "nbformat_minor": 2
}
