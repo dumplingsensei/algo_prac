{
 "cells": [
  {
   "cell_type": "markdown",
   "metadata": {},
   "source": [
    "#### Selection Sort and Insertion Sort"
   ]
  },
  {
   "cell_type": "markdown",
   "metadata": {},
   "source": [
    "##### Selection Sort\n",
    "- Determine the lowest value\n",
    "- Swap the value with the first unordered element\n",
    "- Complexity\n",
    "    - Worst case: $O(n^2)$\n",
    "    - Average case: $\\Theta(n^2)$\n",
    "    - Best case: $\\Omega(n^2)$"
   ]
  },
  {
   "cell_type": "code",
   "execution_count": 28,
   "metadata": {},
   "outputs": [],
   "source": [
    "# def selection_sort(my_list):\n",
    "#   list_length = len(my_list)\n",
    "#   for i in range(list_length - 1):\n",
    "#     # Set lowest to the element of the list located at index i\n",
    "#     lowest = my_list[i]\n",
    "#     index = i\n",
    "#     # Iterate again over the list starting on the next position of the i variable\n",
    "#     for j in range(i + 1, list_length):\n",
    "#       # Compare whether the element of the list located at index j is smaller than lowest\n",
    "#       if my_list[j] < lowest:\n",
    "#         index = j\n",
    "#         lowest = my_list[j]\n",
    "#     my_list[i] , my_list[index] = my_list[index] , my_list[i]\n",
    "#   return my_list\n",
    "\n",
    "def selection_sort(my_list):\n",
    "    sorted_list = my_list.copy()\n",
    "    print(\"Original list:\", my_list)\n",
    "    list_length = len(sorted_list) \n",
    "    for i in range(list_length - 1): # except the last one, cause at that point the list will be already sorted\n",
    "        lowest= sorted_list[i]\n",
    "        index = i\n",
    "        # Iterate again over the list starting on the next position of the i variable\n",
    "        for j in range(i + 1, list_length): \n",
    "            if sorted_list[j] < lowest: # Compare whether the element of the list located at index j is smaller than lowest\n",
    "                index = j\n",
    "                lowest = sorted_list[j]\n",
    "        sorted_list[i], sorted_list[index] = sorted_list[index], sorted_list[i]\n",
    "        print(\"After iteration\", i+1, \":\", sorted_list)\n",
    "    return sorted_list"
   ]
  },
  {
   "cell_type": "markdown",
   "metadata": {},
   "source": [
    "##### Insertion Sort\n",
    "- Complexity\n",
    "    - Worst case: $O(n^2)$\n",
    "    - Average case: $\\Theta(n^2)$\n",
    "    - Best case: $\\Omega(n)$"
   ]
  },
  {
   "cell_type": "code",
   "execution_count": 27,
   "metadata": {},
   "outputs": [],
   "source": [
    "# def insertion_sort(my_list):\n",
    "#     print(my_list)\n",
    "#     for i in range(1, len(my_list)):\n",
    "#         number_to_order = my_list[i]\n",
    "#         j = i - 1\n",
    "#         while j >= 0 and number_to_order < my_list[j]:\n",
    "#             my_list[j + 1] = my_list[j]\n",
    "#             j -= 1\n",
    "#         my_list[j + 1] = number_to_order\n",
    "#         print(my_list)\n",
    "#     return my_list\n",
    "\n",
    "def insertion_sort(my_list):\n",
    "    # Create a copy of the input list\n",
    "    sorted_list = my_list.copy()\n",
    "    print(\"Original list:\", my_list)\n",
    "    \n",
    "    for i in range(1, len(sorted_list)):\n",
    "        number_to_order = sorted_list[i]\n",
    "        j = i - 1\n",
    "        while j >= 0 and number_to_order < sorted_list[j]:\n",
    "            sorted_list[j + 1] = sorted_list[j]\n",
    "            j -= 1\n",
    "        sorted_list[j + 1] = number_to_order\n",
    "        print(f\"After inserting {number_to_order}:\", sorted_list)\n",
    "    \n",
    "    return sorted_list"
   ]
  },
  {
   "cell_type": "code",
   "execution_count": 29,
   "metadata": {},
   "outputs": [],
   "source": [
    "spanish_card = [12, 3, 1, 11, 5]\n"
   ]
  },
  {
   "cell_type": "code",
   "execution_count": 30,
   "metadata": {},
   "outputs": [
    {
     "name": "stdout",
     "output_type": "stream",
     "text": [
      "Original list: [12, 3, 1, 11, 5]\n",
      "After iteration 1 : [1, 3, 12, 11, 5]\n",
      "After iteration 2 : [1, 3, 12, 11, 5]\n",
      "After iteration 3 : [1, 3, 5, 11, 12]\n",
      "After iteration 4 : [1, 3, 5, 11, 12]\n"
     ]
    },
    {
     "data": {
      "text/plain": [
       "[1, 3, 5, 11, 12]"
      ]
     },
     "execution_count": 30,
     "metadata": {},
     "output_type": "execute_result"
    }
   ],
   "source": [
    "selection_sort(spanish_card)"
   ]
  },
  {
   "cell_type": "code",
   "execution_count": 31,
   "metadata": {},
   "outputs": [
    {
     "name": "stdout",
     "output_type": "stream",
     "text": [
      "Original list: [12, 3, 1, 11, 5]\n",
      "After inserting 3: [3, 12, 1, 11, 5]\n",
      "After inserting 1: [1, 3, 12, 11, 5]\n",
      "After inserting 11: [1, 3, 11, 12, 5]\n",
      "After inserting 5: [1, 3, 5, 11, 12]\n"
     ]
    },
    {
     "data": {
      "text/plain": [
       "[1, 3, 5, 11, 12]"
      ]
     },
     "execution_count": 31,
     "metadata": {},
     "output_type": "execute_result"
    }
   ],
   "source": [
    "insertion_sort(spanish_card)"
   ]
  },
  {
   "cell_type": "code",
   "execution_count": null,
   "metadata": {},
   "outputs": [],
   "source": []
  }
 ],
 "metadata": {
  "kernelspec": {
   "display_name": "py38",
   "language": "python",
   "name": "python3"
  },
  "language_info": {
   "codemirror_mode": {
    "name": "ipython",
    "version": 3
   },
   "file_extension": ".py",
   "mimetype": "text/x-python",
   "name": "python",
   "nbconvert_exporter": "python",
   "pygments_lexer": "ipython3",
   "version": "3.8.17"
  }
 },
 "nbformat": 4,
 "nbformat_minor": 2
}
