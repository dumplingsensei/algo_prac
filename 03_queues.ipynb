{
 "cells": [
  {
   "cell_type": "markdown",
   "metadata": {},
   "source": [
    "### **Queues** ####\n",
    "- **FIFO:** First-In First-Out\n",
    "  - **First inserted** item is the **first** to be **removed** (A line of people in supermarket)"
   ]
  },
  {
   "cell_type": "markdown",
   "metadata": {},
   "source": [
    "**Queues - structure**\n",
    "- Beginning: **head**\n",
    "- End: **tail**"
   ]
  },
  {
   "cell_type": "markdown",
   "metadata": {},
   "source": [
    "**Queues - features**\n",
    "- Can only **insert** at the **end**\n",
    "  - **Endqueue**\n",
    "- Can only **remove** from the **head**\n",
    "  - **Dequeue**\n",
    "- Other kinds of queues:\n",
    "  - Doubly ended queues\n",
    "  - Circular queues\n",
    "  - Priority queues"
   ]
  },
  {
   "cell_type": "markdown",
   "metadata": {},
   "source": [
    "**Queues - real-world use cases use**\n",
    "- **Printing tasks** in a printer\n",
    "  - Documents are printed in the order they are received\n",
    "- Applications where the **order of requests matters**\n",
    "  - Tickets for a concert\n",
    "  - Taxi services"
   ]
  },
  {
   "cell_type": "markdown",
   "metadata": {},
   "source": [
    "**Queues - implementation**\n",
    "- Can be implemented using *singly* linked lists."
   ]
  },
  {
   "cell_type": "code",
   "execution_count": 32,
   "metadata": {},
   "outputs": [],
   "source": [
    "class Node:\n",
    "    def __init__(self, data):\n",
    "        self.data = data\n",
    "        self.next = None\n",
    "\n",
    "class Queue:\n",
    "    def __init__(self):\n",
    "        self.head = None\n",
    "        self.tail = None\n",
    "        self.size = 0\n",
    "\n",
    "    def enqueue(self, data):\n",
    "        new_node = Node(data)\n",
    "        if self.head == None:\n",
    "            self.head = new_node\n",
    "            self.tail = new_node\n",
    "        else:\n",
    "            self.tail.next = new_node\n",
    "            self.tail = new_node\n",
    "        self.size += 1\n",
    "\n",
    "    def dequeue(self):\n",
    "        if self.head:\n",
    "            current_node = self.head\n",
    "            self.head = current_node.next\n",
    "            current_node.next = None\n",
    "            self.size -= 1\n",
    "\n",
    "            if self.head == None:\n",
    "                self.tail = None\n",
    "        return current_node.data\n",
    "\n",
    "\n",
    "    def has_elements(self):\n",
    "      return self.head != None"
   ]
  },
  {
   "cell_type": "code",
   "execution_count": 26,
   "metadata": {},
   "outputs": [],
   "source": [
    "friends = Queue()\n",
    "friends.enqueue(\"Alex\")\n",
    "friends.enqueue(\"Jerry\")\n",
    "friends.enqueue(\"Yen\")"
   ]
  },
  {
   "cell_type": "code",
   "execution_count": 27,
   "metadata": {},
   "outputs": [],
   "source": [
    "friends.dequeue()"
   ]
  },
  {
   "cell_type": "code",
   "execution_count": 28,
   "metadata": {},
   "outputs": [
    {
     "name": "stdout",
     "output_type": "stream",
     "text": [
      "2\n"
     ]
    }
   ],
   "source": [
    "print(friends.size)"
   ]
  },
  {
   "cell_type": "code",
   "execution_count": 29,
   "metadata": {},
   "outputs": [
    {
     "data": {
      "text/plain": [
       "True"
      ]
     },
     "execution_count": 29,
     "metadata": {},
     "output_type": "execute_result"
    }
   ],
   "source": [
    "friends.has_elements()"
   ]
  },
  {
   "cell_type": "markdown",
   "metadata": {},
   "source": [
    "**SimpleQueue in Python**\n",
    "- Module: **queue**\n",
    "  - **Queue**\n",
    "  - **SimpleQueue**"
   ]
  },
  {
   "cell_type": "code",
   "execution_count": 2,
   "metadata": {},
   "outputs": [
    {
     "name": "stdout",
     "output_type": "stream",
     "text": [
      "The size is:  3\n"
     ]
    }
   ],
   "source": [
    "import queue\n",
    "\n",
    "orders_queue = queue.SimpleQueue()\n",
    "\n",
    "orders_queue.put(\"Sushi\")\n",
    "orders_queue.put(\"Lasagna\")\n",
    "orders_queue.put(\"Paella\")\n",
    "\n",
    "print(\"The size is: \", orders_queue.qsize())"
   ]
  },
  {
   "cell_type": "code",
   "execution_count": 3,
   "metadata": {},
   "outputs": [
    {
     "name": "stdout",
     "output_type": "stream",
     "text": [
      "Sushi\n",
      "Lasagna\n",
      "Paella\n"
     ]
    }
   ],
   "source": [
    "print(orders_queue.get())\n",
    "print(orders_queue.get())\n",
    "print(orders_queue.get())"
   ]
  },
  {
   "cell_type": "code",
   "execution_count": 4,
   "metadata": {},
   "outputs": [
    {
     "name": "stdout",
     "output_type": "stream",
     "text": [
      "Empty queue:  True\n"
     ]
    }
   ],
   "source": [
    "print(\"Empty queue: \", orders_queue.empty())"
   ]
  },
  {
   "cell_type": "markdown",
   "metadata": {},
   "source": [
    "**Exercise**"
   ]
  },
  {
   "cell_type": "code",
   "execution_count": 33,
   "metadata": {},
   "outputs": [],
   "source": [
    "class PrinterTasks:\n",
    "  def __init__(self):\n",
    "    self.queue = Queue()\n",
    "      \n",
    "  def add_document(self, document):\n",
    "    # Add the document to the queue\n",
    "    self.queue.enqueue(document)\n",
    "      \n",
    "  def print_documents(self):\n",
    "    # Iterate over the queue while it has elements\n",
    "    while self.queue.has_elements():\n",
    "      # Remove the document from the queue\n",
    "      print(\"Printing\", self.queue.dequeue())"
   ]
  },
  {
   "cell_type": "code",
   "execution_count": 34,
   "metadata": {},
   "outputs": [
    {
     "name": "stdout",
     "output_type": "stream",
     "text": [
      "Printing Document 1\n",
      "Printing Document 2\n",
      "Printing Document 3\n"
     ]
    }
   ],
   "source": [
    "printer_tasks = PrinterTasks()\n",
    "# Add some documents to print\n",
    "printer_tasks.add_document(\"Document 1\")\n",
    "printer_tasks.add_document(\"Document 2\")\n",
    "printer_tasks.add_document(\"Document 3\")\n",
    "# Print all the documents in the queue\n",
    "printer_tasks.print_documents()"
   ]
  },
  {
   "cell_type": "code",
   "execution_count": null,
   "metadata": {},
   "outputs": [],
   "source": []
  }
 ],
 "metadata": {
  "kernelspec": {
   "display_name": "py310",
   "language": "python",
   "name": "python3"
  },
  "language_info": {
   "codemirror_mode": {
    "name": "ipython",
    "version": 3
   },
   "file_extension": ".py",
   "mimetype": "text/x-python",
   "name": "python",
   "nbconvert_exporter": "python",
   "pygments_lexer": "ipython3",
   "version": "3.10.12"
  }
 },
 "nbformat": 4,
 "nbformat_minor": 2
}
