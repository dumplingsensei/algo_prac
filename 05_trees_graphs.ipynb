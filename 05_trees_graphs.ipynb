{
 "cells": [
  {
   "cell_type": "markdown",
   "metadata": {},
   "source": [
    "#### **Trees and graphs** ####"
   ]
  },
  {
   "cell_type": "markdown",
   "metadata": {},
   "source": [
    "##### Trees - definition #####\n",
    "- **Node-based** data structures\n",
    "- Each node can have **links** to **more than one node**"
   ]
  },
  {
   "cell_type": "markdown",
   "metadata": {},
   "source": [
    "##### Trees - binary tree #####\n",
    "- Each node has:\n",
    "  - zero children\n",
    "  - one children\n",
    "  - two children"
   ]
  },
  {
   "cell_type": "markdown",
   "metadata": {},
   "source": [
    "##### Trees - binary tree implementation #####"
   ]
  },
  {
   "cell_type": "code",
   "execution_count": 1,
   "metadata": {},
   "outputs": [],
   "source": [
    "class TreeNode:\n",
    "\n",
    "    def __init__(self, data, left=None, right=None):\n",
    "        self.data = data\n",
    "        self.left_child = left\n",
    "        self.right_child = right"
   ]
  },
  {
   "cell_type": "markdown",
   "metadata": {},
   "source": [
    "```\n",
    "  A\n",
    " / \\\n",
    "B   C\n",
    "```"
   ]
  },
  {
   "cell_type": "code",
   "execution_count": 2,
   "metadata": {},
   "outputs": [],
   "source": [
    "node1 = TreeNode(\"B\")\n",
    "node2 = TreeNode(\"C\")\n",
    "root_node = TreeNode(\"A\", node1, node2)"
   ]
  },
  {
   "cell_type": "markdown",
   "metadata": {},
   "source": [
    "##### Trees - real uses #####\n",
    "- Storing **hierarchical relationships**\n",
    "  - File system of a computer\n",
    "  - Structure of and HTML document\n",
    "- **Chess**: possible moves of the rival\n",
    "- **Searching and sorting algorithms**"
   ]
  },
  {
   "cell_type": "markdown",
   "metadata": {},
   "source": [
    "##### Graphs #####\n",
    "- Set of:\n",
    "  - nodes/vertices\n",
    "  - links/edges\n",
    "- Trees are a type of graph"
   ]
  },
  {
   "cell_type": "markdown",
   "metadata": {},
   "source": [
    "##### Graphs - types #####\n",
    "- Directed graphs:\n",
    "  - Specific direction\n",
    "- Undirected graphs:\n",
    "  - Edges have no direction\n",
    "  - The relationship is mutual (friendship)\n",
    "- Weighted graphs:\n",
    "  - numeric values associated with the edges \n",
    "  - can be either directed or undirected (distance)"
   ]
  },
  {
   "cell_type": "markdown",
   "metadata": {},
   "source": [
    "##### Graphs v.s. trees #####\n",
    "\n",
    "\n",
    "| **Trees** | **Graphs** |\n",
    "|    ---    |     ---    |\n",
    "| Cannot have cycles | Can have cycles |\n",
    "| All nodes must be connected | There can be unconnected nodes |"
   ]
  },
  {
   "cell_type": "markdown",
   "metadata": {},
   "source": [
    "##### Graphs - real world use-cases #####\n",
    "- User relationships in **social networks**\n",
    "  - friendship\n",
    "  - follows\n",
    "  - likes\n",
    "  - etc.\n",
    "\n",
    "- **Locations and distances**\n",
    "  - optimize routes\n",
    "- **Graph databases**\n",
    "- **Searching and sorting algorithms**\n"
   ]
  },
  {
   "cell_type": "markdown",
   "metadata": {},
   "source": [
    "##### Graph - implementation #####"
   ]
  },
  {
   "cell_type": "code",
   "execution_count": 12,
   "metadata": {},
   "outputs": [],
   "source": [
    "class Graph:\n",
    "    def __init__(self):\n",
    "        self.vertices = {}\n",
    "\n",
    "    def add_vertex(self, vertex):\n",
    "        self.vertices[vertex] = []\n",
    "\n",
    "    def add_edge(self, source, target, weight=0):\n",
    "        self.vertices[source].append([target, weight])"
   ]
  },
  {
   "cell_type": "code",
   "execution_count": 13,
   "metadata": {},
   "outputs": [],
   "source": [
    "my_graph = Graph()\n",
    "my_graph.add_vertex(\"David\")\n",
    "my_graph.add_vertex(\"Miriam\")\n",
    "my_graph.add_vertex(\"Martin\")\n",
    "\n",
    "my_graph.add_edge(\"David\", \"Miriam\")\n",
    "my_graph.add_edge(\"David\", \"Martin\")\n",
    "my_graph.add_edge(\"Miriam\", \"Martin\")\n"
   ]
  },
  {
   "cell_type": "code",
   "execution_count": 14,
   "metadata": {},
   "outputs": [
    {
     "name": "stdout",
     "output_type": "stream",
     "text": [
      "{'David': [['Miriam', 0], ['Martin', 0]], 'Miriam': [['Martin', 0]], 'Martin': []}\n"
     ]
    }
   ],
   "source": [
    "print(my_graph.vertices)"
   ]
  },
  {
   "cell_type": "markdown",
   "metadata": {},
   "source": [
    "##### Instead, we can use adjacency matrices #####"
   ]
  }
 ],
 "metadata": {
  "kernelspec": {
   "display_name": "py310",
   "language": "python",
   "name": "python3"
  },
  "language_info": {
   "codemirror_mode": {
    "name": "ipython",
    "version": 3
   },
   "file_extension": ".py",
   "mimetype": "text/x-python",
   "name": "python",
   "nbconvert_exporter": "python",
   "pygments_lexer": "ipython3",
   "version": "3.10.12"
  }
 },
 "nbformat": 4,
 "nbformat_minor": 2
}
