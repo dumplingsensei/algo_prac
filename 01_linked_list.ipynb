{
 "cells": [
  {
   "cell_type": "markdown",
   "metadata": {},
   "source": [
    "### **Linked lists** ###\n",
    "- *singly* linked list: one way\n",
    "- *doubly* linked lists: two way\n",
    "\n",
    "- Implement other data structures:\n",
    "  - stacks\n",
    "  - queues\n",
    "  - graphs\n",
    "\n",
    "- Access information by navigating backward and forward\n",
    "  - web browser\n",
    "  - music playlist\n",
    "\n"
   ]
  },
  {
   "cell_type": "code",
   "execution_count": 6,
   "metadata": {},
   "outputs": [],
   "source": [
    "class Node:\n",
    "    def __init__(self, data):\n",
    "        self.data = data\n",
    "        self.next = None\n",
    "\n",
    "\n",
    "class LinkedList:\n",
    "    def __init__(self):\n",
    "        self.head = None\n",
    "        self.tail = None\n",
    "\n",
    "    def insert_at_beginning(self, data):\n",
    "        new_node = Node(data)\n",
    "        if self.head:\n",
    "            new_node.next = self.head\n",
    "            self.head = new_node\n",
    "        else:\n",
    "            self.tail = new_node\n",
    "            self.head = new_node\n",
    "\n",
    "    def insert_at_end(self, data):\n",
    "        new_node = Node(data)\n",
    "        if self.head:\n",
    "            self.tail.next = new_node\n",
    "            self.tail = new_node\n",
    "        else:\n",
    "            self.head = new_node\n",
    "            self.tail = new_node\n",
    "            \n",
    "    def search(self, data):\n",
    "        current_node = self.head\n",
    "        while current_node:\n",
    "            if current_node.data == data:\n",
    "                return True\n",
    "            else:\n",
    "                current_node = current_node.next\n",
    "        return False\n",
    "    \n",
    "    def remove_at_beginning(self):\n",
    "        if not self.head:\n",
    "            return\n",
    "        if self.head == self.tail:\n",
    "            self.head = None\n",
    "            self.tail = None\n",
    "        else:\n",
    "            self.head = self.head.next\n",
    "\n",
    "    def remove_at_end(self):\n",
    "        if not self.head:\n",
    "            return\n",
    "        if self.head == self.tail:\n",
    "            self.head = None\n",
    "            self.tail = None\n",
    "        else:\n",
    "            current_node = self.head\n",
    "            while current_node.next != self.tail:\n",
    "                current_node = current_node.next\n",
    "            current_node.next = None\n",
    "            self.tail = current_node\n",
    "\n",
    "    def __str__(self):\n",
    "        elements = []\n",
    "        current = self.head\n",
    "        while current:\n",
    "            elements.append(str(current.data))\n",
    "            current = current.next\n",
    "        return \" -> \".join(elements)\n",
    "\n",
    "    def __repr__(self):\n",
    "        return f\"LinkedList({self.__str__()})\"\n",
    "    "
   ]
  },
  {
   "cell_type": "code",
   "execution_count": 7,
   "metadata": {},
   "outputs": [],
   "source": [
    "sushi_preparation = LinkedList()\n",
    "sushi_preparation.insert_at_end(\"prepare\")\n",
    "sushi_preparation.insert_at_end(\"roll\")\n",
    "sushi_preparation.insert_at_beginning(\"assemble\")"
   ]
  },
  {
   "cell_type": "code",
   "execution_count": null,
   "metadata": {},
   "outputs": [],
   "source": [
    "sushi_preparation.search(\"roll\")"
   ]
  },
  {
   "cell_type": "code",
   "execution_count": null,
   "metadata": {},
   "outputs": [],
   "source": [
    "sushi_preparation.search(\"mixing\")"
   ]
  },
  {
   "cell_type": "code",
   "execution_count": null,
   "metadata": {},
   "outputs": [],
   "source": [
    "my_list = LinkedList()\n",
    "my_list.insert_at_end(1)\n",
    "my_list.insert_at_end(2)\n",
    "my_list.insert_at_end(3)\n",
    "\n",
    "my_list.remove_at_beginning()\n",
    "my_list.remove_at_end()\n",
    "print(my_list)"
   ]
  },
  {
   "cell_type": "markdown",
   "metadata": {},
   "source": [
    "#### **Question** ####\n",
    "\n",
    "The following algorithm searches for a given value within a linked list. What is its complexity?\n",
    "\n",
    "This method uses the Node() class and search() method."
   ]
  },
  {
   "cell_type": "code",
   "execution_count": null,
   "metadata": {},
   "outputs": [],
   "source": [
    "'''\n",
    "def search(self, data):\n",
    "    current_node = self.head\n",
    "    while current_node:\n",
    "        if current_node.data == data:\n",
    "            return True\n",
    "        else:\n",
    "            current_node = current_node.next\n",
    "    return False\n",
    "'''"
   ]
  },
  {
   "cell_type": "markdown",
   "metadata": {},
   "source": [
    "The algorithm contains one iterator that, in the worst-case visits all the nodes of the linked list. This amounts to a complexity of O(n) for the whole algorithm."
   ]
  },
  {
   "cell_type": "markdown",
   "metadata": {},
   "source": []
  }
 ],
 "metadata": {
  "kernelspec": {
   "display_name": "py310",
   "language": "python",
   "name": "python3"
  },
  "language_info": {
   "codemirror_mode": {
    "name": "ipython",
    "version": 3
   },
   "file_extension": ".py",
   "mimetype": "text/x-python",
   "name": "python",
   "nbconvert_exporter": "python",
   "pygments_lexer": "ipython3",
   "version": "3.10.12"
  }
 },
 "nbformat": 4,
 "nbformat_minor": 2
}
