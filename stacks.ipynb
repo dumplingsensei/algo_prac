{
 "cells": [
  {
   "cell_type": "markdown",
   "metadata": {},
   "source": [
    "### **Stacks** ###\n",
    "- **LIFO**: Last-In First-Out\n",
    "  - **Last inserted** item will be the **first** item to be **removed**\n",
    "\n",
    "- Can only **add** at the **top**\n",
    "  - ***Pushing*** *onto the stack*\n",
    "\n",
    "- Can only **take** from the **top**\n",
    "  - ***Popping*** *from the stack*\n",
    "  \n",
    "- Can only **read** the **last element**\n",
    "  - ***Peeking*** from the stack"
   ]
  },
  {
   "cell_type": "markdown",
   "metadata": {},
   "source": [
    "### **Stacks - real uses** ###\n",
    "- Undo functionality\n",
    "  - **push** each keystroke\n",
    "  - **pop** last inserted keystroke\n",
    "\n",
    "- Symbol checker:([{}])\n",
    "  - **push** opening symbols\n",
    "  - **check** closing symbol\n",
    "  - **pop** matching opening symbol\n",
    "\n",
    "- Function calls\n",
    "  - **push** block of memory\n",
    "  - **pop** after the execution ends"
   ]
  },
  {
   "cell_type": "code",
   "execution_count": null,
   "metadata": {},
   "outputs": [],
   "source": []
  }
 ],
 "metadata": {
  "kernelspec": {
   "display_name": "py310",
   "language": "python",
   "name": "python3"
  },
  "language_info": {
   "codemirror_mode": {
    "name": "ipython",
    "version": 3
   },
   "file_extension": ".py",
   "mimetype": "text/x-python",
   "name": "python",
   "nbconvert_exporter": "python",
   "pygments_lexer": "ipython3",
   "version": "3.10.12"
  }
 },
 "nbformat": 4,
 "nbformat_minor": 2
}
