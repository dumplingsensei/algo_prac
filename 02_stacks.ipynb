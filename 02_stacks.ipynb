{
 "cells": [
  {
   "cell_type": "markdown",
   "metadata": {},
   "source": [
    "### **Stacks** ###\n",
    "- **LIFO**: Last-In First-Out\n",
    "  - **Last inserted** item will be the **first** item to be **removed**\n",
    "\n",
    "- Can only **add** at the **top**\n",
    "  - ***Pushing*** *onto the stack*\n",
    "\n",
    "- Can only **take** from the **top**\n",
    "  - ***Popping*** *from the stack*\n",
    "  \n",
    "- Can only **read** the **last element**\n",
    "  - ***Peeking*** from the stack"
   ]
  },
  {
   "cell_type": "markdown",
   "metadata": {},
   "source": [
    "### **Stacks - real uses** ###\n",
    "- Undo functionality\n",
    "  - **push** each keystroke\n",
    "  - **pop** last inserted keystroke\n",
    "\n",
    "- Symbol checker: ([{}])\n",
    "  - **push** opening symbols\n",
    "  - **check** closing symbol\n",
    "  - **pop** matching opening symbol\n",
    "\n",
    "- Function calls\n",
    "  - **push** block of memory\n",
    "  - **pop** after the execution ends"
   ]
  },
  {
   "cell_type": "markdown",
   "metadata": {},
   "source": [
    "### **Stacks - implementation using singly linked lists** ###"
   ]
  },
  {
   "cell_type": "code",
   "execution_count": null,
   "metadata": {},
   "outputs": [],
   "source": [
    "class Node:\n",
    "    def __init__(self, data):\n",
    "        self.data = data\n",
    "        self.next = None\n",
    "\n",
    "class Stack:\n",
    "    def __init__(self):\n",
    "        self.top = None\n",
    "        self.size = 0\n",
    "\n",
    "    def push(self, data):\n",
    "        new_node = Node(data)\n",
    "        if self.top:\n",
    "            new_node.next = self.top\n",
    "        self.top = new_node\n",
    "        self.size += 1\n",
    "\n",
    "    def pop(self):\n",
    "        if self.top is None:\n",
    "            return None\n",
    "        else:\n",
    "            popped_node = self.top\n",
    "            self.size -= 1\n",
    "            self.top = self.top.next\n",
    "            popped_node.next = None\n",
    "            return popped_node.data\n",
    "        \n",
    "    def peek(self):\n",
    "        if self.top:\n",
    "            return self.top.data\n",
    "        else:\n",
    "            return None"
   ]
  },
  {
   "cell_type": "markdown",
   "metadata": {},
   "source": [
    "### **LifoQueue in Python** ###\n",
    "- **LifoQueue:**\n",
    "  - Python's **queue** module\n",
    "  - behaves like a stack"
   ]
  },
  {
   "cell_type": "code",
   "execution_count": 1,
   "metadata": {},
   "outputs": [
    {
     "name": "stdout",
     "output_type": "stream",
     "text": [
      "The size is:  3\n"
     ]
    }
   ],
   "source": [
    "import queue\n",
    "\n",
    "my_book_stack = queue.LifoQueue(maxsize=0)\n",
    "my_book_stack.put(\"The misunderstanding\")\n",
    "my_book_stack.put(\"Persepolis\")\n",
    "my_book_stack.put(\"1984\")\n",
    "\n",
    "print(\"The size is: \", my_book_stack.qsize())"
   ]
  },
  {
   "cell_type": "code",
   "execution_count": 2,
   "metadata": {},
   "outputs": [
    {
     "name": "stdout",
     "output_type": "stream",
     "text": [
      "1984\n",
      "Persepolis\n",
      "The misunderstanding\n"
     ]
    }
   ],
   "source": [
    "print(my_book_stack.get())\n",
    "print(my_book_stack.get())\n",
    "print(my_book_stack.get())"
   ]
  },
  {
   "cell_type": "code",
   "execution_count": 3,
   "metadata": {},
   "outputs": [
    {
     "name": "stdout",
     "output_type": "stream",
     "text": [
      "Empty stack:  True\n"
     ]
    }
   ],
   "source": [
    "print(\"Empty stack: \", my_book_stack.empty())"
   ]
  },
  {
   "cell_type": "markdown",
   "metadata": {},
   "source": [
    "- **LifoQueue** does not have a built-in method for peeking at the top item without removing it, because it is meant for thread-safe operations where accessing without removing could cause race conditions."
   ]
  },
  {
   "cell_type": "code",
   "execution_count": 4,
   "metadata": {},
   "outputs": [
    {
     "name": "stdout",
     "output_type": "stream",
     "text": [
      "Top item: 30\n",
      "Stack size: 3\n"
     ]
    }
   ],
   "source": [
    "from queue import LifoQueue\n",
    "\n",
    "# Create a LifoQueue\n",
    "stack = LifoQueue()\n",
    "\n",
    "# Add some items to the stack\n",
    "stack.put(10)\n",
    "stack.put(20)\n",
    "stack.put(30)\n",
    "\n",
    "# Peek the top item by popping it and immediately pushing it back\n",
    "def peek(stack):\n",
    "    top_item = stack.get()  # Remove the top item\n",
    "    stack.put(top_item)     # Put it back\n",
    "    return top_item\n",
    "\n",
    "# Peek at the top item\n",
    "top_item = peek(stack)\n",
    "print(\"Top item:\", top_item)\n",
    "\n",
    "# The stack remains unchanged\n",
    "print(\"Stack size:\", stack.qsize())"
   ]
  },
  {
   "cell_type": "markdown",
   "metadata": {},
   "source": [
    "- This method ensures the top item is returned without affecting the stack's state. However, be aware that this can introduce inefficiency for a highly concurrent program.\n",
    "\n",
    "- If thread safety is not an issue, consider using a simple list instead of LifoQueue, where you can directly access the last item with stack[-1]."
   ]
  },
  {
   "cell_type": "code",
   "execution_count": 6,
   "metadata": {},
   "outputs": [
    {
     "name": "stdout",
     "output_type": "stream",
     "text": [
      "Top item: 30\n",
      "Stack: [10, 20, 30]\n"
     ]
    }
   ],
   "source": [
    "# Create a stack using a list\n",
    "stack = []\n",
    "\n",
    "# Push items onto the stack\n",
    "stack.append(10)\n",
    "stack.append(20)\n",
    "stack.append(30)\n",
    "\n",
    "# Peek at the top item\n",
    "top_item = stack[-1]\n",
    "print(\"Top item:\", top_item)\n",
    "\n",
    "# The stack remains unchanged\n",
    "print(\"Stack:\", stack)\n"
   ]
  },
  {
   "cell_type": "code",
   "execution_count": null,
   "metadata": {},
   "outputs": [],
   "source": []
  }
 ],
 "metadata": {
  "kernelspec": {
   "display_name": "py310",
   "language": "python",
   "name": "python3"
  },
  "language_info": {
   "codemirror_mode": {
    "name": "ipython",
    "version": 3
   },
   "file_extension": ".py",
   "mimetype": "text/x-python",
   "name": "python",
   "nbconvert_exporter": "python",
   "pygments_lexer": "ipython3",
   "version": "3.10.12"
  }
 },
 "nbformat": 4,
 "nbformat_minor": 2
}
